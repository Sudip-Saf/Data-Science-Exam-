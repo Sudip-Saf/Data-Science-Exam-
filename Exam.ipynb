{
 "cells": [
  {
   "cell_type": "markdown",
   "id": "8df60408-d5d4-4cba-9e53-0c711164341e",
   "metadata": {},
   "source": [
    "Question NO 1\n",
    "Ans:-"
   ]
  },
  {
   "cell_type": "code",
   "execution_count": 2,
   "id": "493023ee-c39b-451b-a110-57701ae21b04",
   "metadata": {},
   "outputs": [
    {
     "name": "stdout",
     "output_type": "stream",
     "text": [
      "Count of 20: 3\n",
      "Updated list: [5, 15, 25, 50]\n"
     ]
    }
   ],
   "source": [
    "listl = [5, 20, 15, 20, 25, 50, 20]\n",
    "\n",
    "# Count occurrences of 20\n",
    "count_20 = listl.count(20)\n",
    "\n",
    "# Remove all occurrences of 20\n",
    "listl = [item for item in listl if item != 20]\n",
    "\n",
    "# Display the results\n",
    "print(\"Count of 20:\", count_20)\n",
    "print(\"Updated list:\", listl)\n"
   ]
  },
  {
   "cell_type": "markdown",
   "id": "82dcd408-615b-4216-9c0a-3d45df31b353",
   "metadata": {},
   "source": [
    "Question No 2\n",
    "Ans:-"
   ]
  },
  {
   "cell_type": "code",
   "execution_count": 3,
   "id": "ff835a75-9240-4e22-babe-e37db8065bb9",
   "metadata": {},
   "outputs": [
    {
     "name": "stdout",
     "output_type": "stream",
     "text": [
      "Initial nested dictionary: {'student1': {'name': 'Sudip', 'age': 24, 'grade': 'A'}, 'student2': {'name': 'Sujan', 'age': 22, 'grade': 'B'}}\n",
      "\n",
      "After adding a new key-value pair (student3): {'student1': {'name': 'Sudip', 'age': 24, 'grade': 'A'}, 'student2': {'name': 'Sujan', 'age': 22, 'grade': 'B'}, 'student3': {'name': 'Safalta', 'age': 21, 'grade': 'A'}}\n",
      "\n",
      "After updating student1's age: {'student1': {'name': 'Sudip', 'age': 21, 'grade': 'A'}, 'student2': {'name': 'Sujan', 'age': 22, 'grade': 'B'}, 'student3': {'name': 'Safalta', 'age': 21, 'grade': 'A'}}\n",
      "\n",
      "After deleting student2: {'student1': {'name': 'Sudip', 'age': 21, 'grade': 'A'}, 'student3': {'name': 'Safalta', 'age': 21, 'grade': 'A'}}\n"
     ]
    }
   ],
   "source": [
    "# Initialize a nested dictionary\n",
    "nested_dict = {\n",
    "    'student1': {'name': 'Sudip', 'age': 24, 'grade': 'A'},\n",
    "    'student2': {'name': 'Sujan', 'age': 22, 'grade': 'B'}\n",
    "}\n",
    "\n",
    "# Display the initial nested dictionary\n",
    "print(\"Initial nested dictionary:\", nested_dict)\n",
    "\n",
    "# Addition: Adding a new student entry\n",
    "nested_dict['student3'] = {'name': 'Safalta', 'age': 21, 'grade': 'A'}\n",
    "print(\"\\nAfter adding a new key-value pair (student3):\", nested_dict)\n",
    "\n",
    "# Update: Updating an existing student's age\n",
    "nested_dict['student1']['age'] = 21\n",
    "print(\"\\nAfter updating student1's age:\", nested_dict)\n",
    "\n",
    "# Deletion: Removing a student entry\n",
    "del nested_dict['student2']\n",
    "print(\"\\nAfter deleting student2:\", nested_dict)\n"
   ]
  },
  {
   "cell_type": "markdown",
   "id": "71dc21e2-d74e-4b74-b067-03afa9dbaa8b",
   "metadata": {},
   "source": [
    "Question No. 3 \n",
    "Ans:-"
   ]
  },
  {
   "cell_type": "code",
   "execution_count": 4,
   "id": "6778f26b-2106-432d-b33d-e00dafcd4dae",
   "metadata": {},
   "outputs": [
    {
     "name": "stdout",
     "output_type": "stream",
     "text": [
      "Average Score: 78.57142857142857\n",
      "John obtained a distinction.\n"
     ]
    }
   ],
   "source": [
    "# John's scores\n",
    "john_scores = [80, 75, 90, 65, 70, 80, 90]\n",
    "\n",
    "# Calculate the average score\n",
    "average_score = sum(john_scores) / len(john_scores)\n",
    "\n",
    "# Determine distinction\n",
    "if average_score >= 75:\n",
    "    result = \"John obtained a distinction.\"\n",
    "else:\n",
    "    result = \"John did not obtain a distinction.\"\n",
    "\n",
    "# Display the results\n",
    "print(\"Average Score:\", average_score)\n",
    "print(result)\n"
   ]
  },
  {
   "cell_type": "markdown",
   "id": "253350bf-2564-4ce4-a5df-1e18734425e5",
   "metadata": {},
   "source": [
    "Question No. 4\n",
    "Ans:-"
   ]
  },
  {
   "cell_type": "code",
   "execution_count": 12,
   "id": "b9b59379-ad37-46d7-bb1c-d694f9816bb6",
   "metadata": {},
   "outputs": [
    {
     "name": "stdout",
     "output_type": "stream",
     "text": [
      "  Student  Math  English  Science  Family Income  Hours of Study at Home  \\\n",
      "0    Ajay  85.0       90     78.0          75000                     3.0   \n",
      "1  Binay_  92.0       88     95.0          80000                     4.0   \n",
      "3     Raj  88.0       92     89.0          90000                     5.0   \n",
      "\n",
      "  Age Group  Distance from School (km)  Number of Siblings  \\\n",
      "0     11-20                        2.5                   2   \n",
      "1     21-30                        3.0                   1   \n",
      "3     21-30                        4.2                   0   \n",
      "\n",
      "   Extracurricular Activities Motivation Level  \n",
      "0                           1             High  \n",
      "1                           1           Medium  \n",
      "3                           1             High  \n"
     ]
    }
   ],
   "source": [
    "import pandas as pd\n",
    "\n",
    "# Load the dataset\n",
    "df = pd.read_csv(\"./student_scores.csv\") \n",
    "# Filter rows where 'Math' score is above 80 and 'Science' score is not missing\n",
    "filtered_df = df[(df['Math'] > 80) & (df['Science'].notna())]\n",
    "\n",
    "# Display the filtered DataFrame\n",
    "print(filtered_df)\n"
   ]
  },
  {
   "cell_type": "markdown",
   "id": "c9885b5c-b76d-4a30-9dff-f005c5cc4631",
   "metadata": {},
   "source": [
    "Question No. 5\n",
    "Ans:-"
   ]
  },
  {
   "cell_type": "code",
   "execution_count": 13,
   "id": "5b7e6a75-86ba-4fc3-8c8f-5886c5d4c217",
   "metadata": {},
   "outputs": [
    {
     "name": "stdout",
     "output_type": "stream",
     "text": [
      "Median values for each subject:\n",
      "Math: 80.0\n",
      "English: 88.0\n",
      "Science: 85.0\n"
     ]
    }
   ],
   "source": [
    "import pandas as pd\n",
    "\n",
    "# Load the dataset\n",
    "df = pd.read_csv('./student_scores.csv')\n",
    "\n",
    "# Calculate the median values for each subject (Math, English, Science)\n",
    "median_values = df[['Math', 'English', 'Science']].median()\n",
    "\n",
    "# Display the median values\n",
    "print(\"Median values for each subject:\")\n",
    "print(\"Math:\", median_values['Math'])\n",
    "print(\"English:\", median_values['English'])\n",
    "print(\"Science:\", median_values['Science'])\n"
   ]
  },
  {
   "cell_type": "markdown",
   "id": "791923c1-1b92-4d56-b5da-d58779a6d4f1",
   "metadata": {},
   "source": [
    "Question No. 6\n",
    "Ans:-\n"
   ]
  },
  {
   "cell_type": "code",
   "execution_count": 17,
   "id": "c855c8f3-91af-4794-b228-8f364d20d09d",
   "metadata": {},
   "outputs": [
    {
     "name": "stdout",
     "output_type": "stream",
     "text": [
      "Data after replacing missing values with median values:\n",
      "   Student  Math  English  Science  Family Income  Hours of Study at Home  \\\n",
      "0     Ajay  85.0       90     78.0          75000                     3.0   \n",
      "1   Binay_  92.0       88     95.0          80000                     4.0   \n",
      "2   Amrita  75.0       80     82.0          60000                     2.0   \n",
      "3      Raj  88.0       92     89.0          90000                     5.0   \n",
      "4  Sa nj u  60.0       77     85.0          55000                     1.0   \n",
      "5    Pujan   2.0       85     85.0          40000                     3.5   \n",
      "6  Prabesh  80.0      900     85.0         100000                     6.0   \n",
      "\n",
      "  Age Group  Distance from School (km)  Number of Siblings  \\\n",
      "0     11-20                        2.5                   2   \n",
      "1     21-30                        3.0                   1   \n",
      "2     11-20                        1.8                   3   \n",
      "3     21-30                        4.2                   0   \n",
      "4     11-20                        2.0                   4   \n",
      "5      0-10                        0.5                   0   \n",
      "6     21-30                        5.5                   2   \n",
      "\n",
      "   Extracurricular Activities Motivation Level  \n",
      "0                           1             High  \n",
      "1                           1           Medium  \n",
      "2                           0           Medium  \n",
      "3                           1             High  \n",
      "4                           0              Low  \n",
      "5                           0              Low  \n",
      "6                           1             High  \n"
     ]
    },
    {
     "name": "stderr",
     "output_type": "stream",
     "text": [
      "C:\\Users\\Dell\\AppData\\Local\\Temp\\ipykernel_2872\\2459496827.py:11: FutureWarning: A value is trying to be set on a copy of a DataFrame or Series through chained assignment using an inplace method.\n",
      "The behavior will change in pandas 3.0. This inplace method will never work because the intermediate object on which we are setting values always behaves as a copy.\n",
      "\n",
      "For example, when doing 'df[col].method(value, inplace=True)', try using 'df.method({col: value}, inplace=True)' or df[col] = df[col].method(value) instead, to perform the operation inplace on the original object.\n",
      "\n",
      "\n",
      "  df[column].fillna(median_value, inplace=True)  # Replace NaN values with median\n",
      "C:\\Users\\Dell\\AppData\\Local\\Temp\\ipykernel_2872\\2459496827.py:11: FutureWarning: A value is trying to be set on a copy of a DataFrame or Series through chained assignment using an inplace method.\n",
      "The behavior will change in pandas 3.0. This inplace method will never work because the intermediate object on which we are setting values always behaves as a copy.\n",
      "\n",
      "For example, when doing 'df[col].method(value, inplace=True)', try using 'df.method({col: value}, inplace=True)' or df[col] = df[col].method(value) instead, to perform the operation inplace on the original object.\n",
      "\n",
      "\n",
      "  df[column].fillna(median_value, inplace=True)  # Replace NaN values with median\n",
      "C:\\Users\\Dell\\AppData\\Local\\Temp\\ipykernel_2872\\2459496827.py:11: FutureWarning: A value is trying to be set on a copy of a DataFrame or Series through chained assignment using an inplace method.\n",
      "The behavior will change in pandas 3.0. This inplace method will never work because the intermediate object on which we are setting values always behaves as a copy.\n",
      "\n",
      "For example, when doing 'df[col].method(value, inplace=True)', try using 'df.method({col: value}, inplace=True)' or df[col] = df[col].method(value) instead, to perform the operation inplace on the original object.\n",
      "\n",
      "\n",
      "  df[column].fillna(median_value, inplace=True)  # Replace NaN values with median\n",
      "C:\\Users\\Dell\\AppData\\Local\\Temp\\ipykernel_2872\\2459496827.py:11: FutureWarning: A value is trying to be set on a copy of a DataFrame or Series through chained assignment using an inplace method.\n",
      "The behavior will change in pandas 3.0. This inplace method will never work because the intermediate object on which we are setting values always behaves as a copy.\n",
      "\n",
      "For example, when doing 'df[col].method(value, inplace=True)', try using 'df.method({col: value}, inplace=True)' or df[col] = df[col].method(value) instead, to perform the operation inplace on the original object.\n",
      "\n",
      "\n",
      "  df[column].fillna(median_value, inplace=True)  # Replace NaN values with median\n",
      "C:\\Users\\Dell\\AppData\\Local\\Temp\\ipykernel_2872\\2459496827.py:11: FutureWarning: A value is trying to be set on a copy of a DataFrame or Series through chained assignment using an inplace method.\n",
      "The behavior will change in pandas 3.0. This inplace method will never work because the intermediate object on which we are setting values always behaves as a copy.\n",
      "\n",
      "For example, when doing 'df[col].method(value, inplace=True)', try using 'df.method({col: value}, inplace=True)' or df[col] = df[col].method(value) instead, to perform the operation inplace on the original object.\n",
      "\n",
      "\n",
      "  df[column].fillna(median_value, inplace=True)  # Replace NaN values with median\n",
      "C:\\Users\\Dell\\AppData\\Local\\Temp\\ipykernel_2872\\2459496827.py:11: FutureWarning: A value is trying to be set on a copy of a DataFrame or Series through chained assignment using an inplace method.\n",
      "The behavior will change in pandas 3.0. This inplace method will never work because the intermediate object on which we are setting values always behaves as a copy.\n",
      "\n",
      "For example, when doing 'df[col].method(value, inplace=True)', try using 'df.method({col: value}, inplace=True)' or df[col] = df[col].method(value) instead, to perform the operation inplace on the original object.\n",
      "\n",
      "\n",
      "  df[column].fillna(median_value, inplace=True)  # Replace NaN values with median\n",
      "C:\\Users\\Dell\\AppData\\Local\\Temp\\ipykernel_2872\\2459496827.py:11: FutureWarning: A value is trying to be set on a copy of a DataFrame or Series through chained assignment using an inplace method.\n",
      "The behavior will change in pandas 3.0. This inplace method will never work because the intermediate object on which we are setting values always behaves as a copy.\n",
      "\n",
      "For example, when doing 'df[col].method(value, inplace=True)', try using 'df.method({col: value}, inplace=True)' or df[col] = df[col].method(value) instead, to perform the operation inplace on the original object.\n",
      "\n",
      "\n",
      "  df[column].fillna(median_value, inplace=True)  # Replace NaN values with median\n",
      "C:\\Users\\Dell\\AppData\\Local\\Temp\\ipykernel_2872\\2459496827.py:11: FutureWarning: A value is trying to be set on a copy of a DataFrame or Series through chained assignment using an inplace method.\n",
      "The behavior will change in pandas 3.0. This inplace method will never work because the intermediate object on which we are setting values always behaves as a copy.\n",
      "\n",
      "For example, when doing 'df[col].method(value, inplace=True)', try using 'df.method({col: value}, inplace=True)' or df[col] = df[col].method(value) instead, to perform the operation inplace on the original object.\n",
      "\n",
      "\n",
      "  df[column].fillna(median_value, inplace=True)  # Replace NaN values with median\n"
     ]
    }
   ],
   "source": [
    "import pandas as pd\n",
    "\n",
    "# Load the dataset\n",
    "df = pd.read_csv('./student_scores.csv')\n",
    "\n",
    "# Loop through each column in the DataFrame\n",
    "for column in df.columns:\n",
    "    # Check if the column contains numeric data (only calculate median for numeric columns)\n",
    "    if pd.api.types.is_numeric_dtype(df[column]):\n",
    "        median_value = df[column].median()  # Calculate the median for the column\n",
    "        df[column].fillna(median_value, inplace=True)  # Replace NaN values with median\n",
    "\n",
    "# Display the DataFrame after replacing missing values with median values\n",
    "print(\"Data after replacing missing values with median values:\")\n",
    "print(df)\n"
   ]
  },
  {
   "cell_type": "markdown",
   "id": "23417638-3c60-4945-87ed-228cdefea551",
   "metadata": {},
   "source": [
    "Question No 7\n",
    "Ans:-"
   ]
  },
  {
   "cell_type": "code",
   "execution_count": 18,
   "id": "14c6c793-1bea-4be7-91e2-a80d54067782",
   "metadata": {},
   "outputs": [
    {
     "name": "stdout",
     "output_type": "stream",
     "text": [
      "Data after replacing outliers with mean values:\n",
      "   Student  Math     English  Science  Family Income  Hours of Study at Home  \\\n",
      "0     Ajay  85.0   90.000000     78.0          75000                     3.0   \n",
      "1   Binay_  92.0   88.000000     95.0          80000                     4.0   \n",
      "2   Amrita  75.0   80.000000     82.0          60000                     2.0   \n",
      "3      Raj  88.0   92.000000     89.0          90000                     5.0   \n",
      "4  Sa nj u  60.0   77.000000      NaN          55000                     1.0   \n",
      "5    Pujan  67.0   85.000000      NaN          40000                     NaN   \n",
      "6  Prabesh   NaN  201.714286     85.0         100000                     6.0   \n",
      "\n",
      "  Age Group  Distance from School (km)  Number of Siblings  \\\n",
      "0     11-20                        2.5                   2   \n",
      "1     21-30                        3.0                   1   \n",
      "2     11-20                        1.8                   3   \n",
      "3     21-30                        4.2                   0   \n",
      "4     11-20                        2.0                   4   \n",
      "5      0-10                        0.5                   0   \n",
      "6     21-30                        5.5                   2   \n",
      "\n",
      "   Extracurricular Activities Motivation Level  \n",
      "0                           1             High  \n",
      "1                           1           Medium  \n",
      "2                           0           Medium  \n",
      "3                           1             High  \n",
      "4                           0              Low  \n",
      "5                           0              Low  \n",
      "6                           1             High  \n"
     ]
    }
   ],
   "source": [
    "import pandas as pd\n",
    "\n",
    "# Load the dataset\n",
    "df = pd.read_csv('./student_scores.csv')\n",
    "\n",
    "# Loop through each column in the DataFrame\n",
    "for column in df.columns:\n",
    "    # Check if the column is numeric to detect and replace outliers\n",
    "    if pd.api.types.is_numeric_dtype(df[column]):\n",
    "        # Calculate Q1, Q3, and IQR\n",
    "        Q1 = df[column].quantile(0.25)\n",
    "        Q3 = df[column].quantile(0.75)\n",
    "        IQR = Q3 - Q1\n",
    "        lower_bound = Q1 - 1.5 * IQR\n",
    "        upper_bound = Q3 + 1.5 * IQR\n",
    "\n",
    "        # Calculate the mean of the column\n",
    "        mean_value = df[column].mean()\n",
    "\n",
    "        # Replace outliers with the mean\n",
    "        df[column] = df[column].apply(lambda x: mean_value if x < lower_bound or x > upper_bound else x)\n",
    "\n",
    "# Display the DataFrame after replacing outliers with mean values\n",
    "print(\"Data after replacing outliers with mean values:\")\n",
    "print(df)\n"
   ]
  },
  {
   "cell_type": "markdown",
   "id": "281256ec-907d-4c05-a187-4c8528ef5fe5",
   "metadata": {},
   "source": [
    "Question No 8\n",
    "ans :-"
   ]
  },
  {
   "cell_type": "code",
   "execution_count": 20,
   "id": "f491b5f9-8bda-42de-b778-f2d70e2c8841",
   "metadata": {},
   "outputs": [
    {
     "name": "stdout",
     "output_type": "stream",
     "text": [
      "Original DataFrame:\n",
      "   Student  Math  English  Science  Family Income  Hours of Study at Home  \\\n",
      "0     Ajay  85.0       90     78.0          75000                     3.0   \n",
      "1   Binay_  92.0       88     95.0          80000                     4.0   \n",
      "2   Amrita  75.0       80     82.0          60000                     2.0   \n",
      "3      Raj  88.0       92     89.0          90000                     5.0   \n",
      "4  Sa nj u  60.0       77      NaN          55000                     1.0   \n",
      "5    Pujan   2.0       85      NaN          40000                     NaN   \n",
      "6  Prabesh   NaN      900     85.0         100000                     6.0   \n",
      "\n",
      "  Age Group  Distance from School (km)  Number of Siblings  \\\n",
      "0     11-20                        2.5                   2   \n",
      "1     21-30                        3.0                   1   \n",
      "2     11-20                        1.8                   3   \n",
      "3     21-30                        4.2                   0   \n",
      "4     11-20                        2.0                   4   \n",
      "5      0-10                        0.5                   0   \n",
      "6     21-30                        5.5                   2   \n",
      "\n",
      "   Extracurricular Activities Motivation Level  \n",
      "0                           1             High  \n",
      "1                           1           Medium  \n",
      "2                           0           Medium  \n",
      "3                           1             High  \n",
      "4                           0              Low  \n",
      "5                           0              Low  \n",
      "6                           1             High  \n",
      "\n",
      "Cleaned DataFrame with Total Score:\n",
      "   Student  Math  English  Science  Family Income  Hours of Study at Home  \\\n",
      "0     Ajay  85.0       90     78.0          75000                     3.0   \n",
      "1   Binay_  92.0       88     95.0          80000                     4.0   \n",
      "2   Amrita  75.0       80     82.0          60000                     2.0   \n",
      "3      Raj  88.0       92     89.0          90000                     5.0   \n",
      "4  Sa nj u  60.0       77      0.0          55000                     1.0   \n",
      "5    Pujan   2.0       85      0.0          40000                     0.0   \n",
      "6  Prabesh   0.0      900     85.0         100000                     6.0   \n",
      "\n",
      "  Age Group  Distance from School (km)  Number of Siblings  \\\n",
      "0     11-20                        2.5                   2   \n",
      "1     21-30                        3.0                   1   \n",
      "2     11-20                        1.8                   3   \n",
      "3     21-30                        4.2                   0   \n",
      "4     11-20                        2.0                   4   \n",
      "5      0-10                        0.5                   0   \n",
      "6     21-30                        5.5                   2   \n",
      "\n",
      "   Extracurricular Activities Motivation Level  Total Score  \n",
      "0                           1             High        253.0  \n",
      "1                           1           Medium        275.0  \n",
      "2                           0           Medium        237.0  \n",
      "3                           1             High        269.0  \n",
      "4                           0              Low        137.0  \n",
      "5                           0              Low         87.0  \n",
      "6                           1             High        985.0  \n",
      "\n",
      "Cleaned data saved to cleaned_student_scores.csv\n"
     ]
    }
   ],
   "source": [
    "import pandas as pd\n",
    "\n",
    "# Step 1: Load the CSV file into a DataFrame\n",
    "file_path = './student_scores.csv'  # Replace with your actual file path\n",
    "df = pd.read_csv(file_path)\n",
    "\n",
    "# Display the original DataFrame\n",
    "print(\"Original DataFrame:\")\n",
    "print(df)\n",
    "\n",
    "# Step 2: Clean the string columns\n",
    "# Assuming the subject columns are named 'Math', 'Science', 'English', etc.\n",
    "subject_columns = ['Math', 'Science', 'English']  # Adjust according to your actual column names\n",
    "\n",
    "# Convert to numeric, forcing errors to NaN\n",
    "for column in subject_columns:\n",
    "    df[column] = pd.to_numeric(df[column], errors='coerce')\n",
    "\n",
    "# Optionally fill NaN values with 0 (or you can drop them)\n",
    "df.fillna(0, inplace=True)\n",
    "\n",
    "# Step 3: Calculate the total score\n",
    "df['Total Score'] = df[subject_columns].sum(axis=1)\n",
    "\n",
    "# Display the cleaned DataFrame\n",
    "print(\"\\nCleaned DataFrame with Total Score:\")\n",
    "print(df)\n",
    "\n",
    "# Step 4: Save the cleaned DataFrame to a new CSV file (optional)\n",
    "cleaned_file_path = 'cleaned_student_scores.csv'  # Replace with your desired output file path\n",
    "df.to_csv(cleaned_file_path, index=False)\n",
    "\n",
    "print(f\"\\nCleaned data saved to {cleaned_file_path}\")"
   ]
  },
  {
   "cell_type": "code",
   "execution_count": 22,
   "id": "58e52048-5a02-4b37-afd6-6cd94e5a88f1",
   "metadata": {},
   "outputs": [
    {
     "name": "stdout",
     "output_type": "stream",
     "text": [
      "Normalized Data:\n",
      "       Math   Science   English\n",
      "0  0.922222  0.000000  0.015796\n",
      "1  1.000000  1.000000  0.013366\n",
      "2  0.811111  0.235294  0.003645\n",
      "3  0.955556  0.647059  0.018226\n",
      "4  0.644444       NaN  0.000000\n",
      "\n",
      "Standardized Data:\n",
      "       Math   Science   English\n",
      "0  0.582568 -1.334553 -0.391819\n",
      "1  0.809122  1.574088 -0.398834\n",
      "2  0.258919 -0.650167 -0.426893\n",
      "3  0.679663  0.547509 -0.384805\n",
      "4 -0.226554       NaN -0.437415\n"
     ]
    }
   ],
   "source": [
    "#Question No 9\n",
    "from sklearn.preprocessing import MinMaxScaler, StandardScaler\n",
    "\n",
    "# Normalize the features (Min-Max Scaling)\n",
    "min_max_scaler = MinMaxScaler()\n",
    "normalized_data = min_max_scaler.fit_transform(df[subject_columns])\n",
    "normalized_df = pd.DataFrame(normalized_data, columns=subject_columns)\n",
    "\n",
    "# Standardize the features (Z-score Scaling)\n",
    "standard_scaler = StandardScaler()\n",
    "standardized_data = standard_scaler.fit_transform(df[subject_columns])\n",
    "standardized_df = pd.DataFrame(standardized_data, columns=subject_columns)\n",
    "\n",
    "# Display the normalized and standardized DataFrames\n",
    "print(\"Normalized Data:\")\n",
    "print(normalized_df.head())\n",
    "\n",
    "print(\"\\nStandardized Data:\")\n",
    "print(standardized_df.head())"
   ]
  },
  {
   "cell_type": "markdown",
   "id": "78e40443-93d0-4ea0-bbf0-57e4d45a4231",
   "metadata": {},
   "source": [
    "Question NO 10\n",
    "Ans:-"
   ]
  },
  {
   "cell_type": "code",
   "execution_count": 3,
   "id": "2b8363d3-d117-41f2-8712-951c7a58a706",
   "metadata": {},
   "outputs": [
    {
     "name": "stdout",
     "output_type": "stream",
     "text": [
      "Normalized Data:\n",
      "       Math   English   Science  Family_Inc  Hours_of_S  Distance_fi  \\\n",
      "0  0.922222  0.015796  0.690909    0.583333    0.454545         0.40   \n",
      "1  1.000000  0.013366  1.000000    0.666667    0.636364         0.50   \n",
      "2  0.811111  0.003645  0.763636    0.333333    0.272727         0.26   \n",
      "3  0.955556  0.018226  0.890909    0.833333    0.818182         0.74   \n",
      "4  0.644444  0.000000  0.272727    0.250000    0.090909         0.30   \n",
      "5  0.000000  0.009721  0.000000    0.000000    0.000000         0.00   \n",
      "6  0.977778  1.000000  0.818182    1.000000    1.000000         1.00   \n",
      "\n",
      "   Number_of_Extracurric  \n",
      "0                   0.50  \n",
      "1                   0.25  \n",
      "2                   0.75  \n",
      "3                   0.00  \n",
      "4                   1.00  \n",
      "5                   0.00  \n",
      "6                   0.50  \n",
      "\n",
      "Standardized Data:\n",
      "       Math   English   Science  Family_Inc  Hours_of_S  Distance_fi  \\\n",
      "0  0.495158 -0.391819  0.170486    0.184053   -0.037635    -0.187186   \n",
      "1  0.730719 -0.398834  1.092662    0.441726    0.489261     0.140389   \n",
      "2  0.158643 -0.426893  0.387469   -0.588968   -0.564532    -0.645791   \n",
      "3  0.596113 -0.384805  0.767188    0.957073    1.016158     0.926570   \n",
      "4 -0.346130 -0.437415 -1.077163   -0.846642   -1.091429    -0.514761   \n",
      "5 -2.297918 -0.409356 -1.890848   -1.619662   -1.354878    -1.497487   \n",
      "6  0.663416  2.449121  0.550206    1.472420    1.543055     1.778266   \n",
      "\n",
      "   Number_of_Extracurric  \n",
      "0               0.206284  \n",
      "1              -0.515711  \n",
      "2               0.928279  \n",
      "3              -1.237705  \n",
      "4               1.650274  \n",
      "5              -1.237705  \n",
      "6               0.206284  \n"
     ]
    }
   ],
   "source": [
    "import pandas as pd\n",
    "from sklearn.preprocessing import MinMaxScaler, StandardScaler\n",
    "\n",
    "# Creating DataFrame from the provided data\n",
    "data = {\n",
    "    'Student': ['Ajay', 'Binay_', 'Amrita', 'Raj', 'Sa nj u', 'Pujan', 'Prabesh'],\n",
    "    'Math': [85, 92, 75, 88, 60, 2, 90],\n",
    "    'English': [90, 88, 80, 92, 77, 85, 900],\n",
    "    'Science': [78, 95, 82, 89, 55, 40, 85],\n",
    "    'Family_Inc': [75000, 80000, 60000, 90000, 55000, 40000, 100000],\n",
    "    'Hours_of_S': [3, 4, 2, 5, 1, 0.5, 6],\n",
    "    'Age_Group': ['20-Nov', '21-30', '20-Nov', '21-30', '20-Nov', '0-10', '21-30'],\n",
    "    'Distance_fi': [2.5, 3, 1.8, 4.2, 2, 0.5, 5.5],\n",
    "    'Number_of_Extracurric': [2, 1, 3, 0, 4, 0, 2],\n",
    "    'Motivation_Level': ['High', 'Medium', 'Medium', 'High', 'Low', 'Low', 'High']\n",
    "}\n",
    "\n",
    "df = pd.DataFrame(data)\n",
    "\n",
    "# Selecting only the features to normalize and standardize\n",
    "features = df[['Math', 'English', 'Science', 'Family_Inc', 'Hours_of_S', 'Distance_fi', 'Number_of_Extracurric']]\n",
    "\n",
    "# 1. Normalization using Min-Max Scaler\n",
    "min_max_scaler = MinMaxScaler()\n",
    "features_normalized = pd.DataFrame(min_max_scaler.fit_transform(features), columns=features.columns)\n",
    "print(\"Normalized Data:\")\n",
    "print(features_normalized)\n",
    "\n",
    "# 2. Standardization using Standard Scaler\n",
    "standard_scaler = StandardScaler()\n",
    "features_standardized = pd.DataFrame(standard_scaler.fit_transform(features), columns=features.columns)\n",
    "print(\"\\nStandardized Data:\")\n",
    "print(features_standardized)\n"
   ]
  },
  {
   "cell_type": "markdown",
   "id": "2e9e96ad-c5a6-4b04-ae6f-0b5c14863874",
   "metadata": {},
   "source": [
    "Question No 11\n",
    "Ans:-"
   ]
  },
  {
   "cell_type": "code",
   "execution_count": 4,
   "id": "b8ccdc70-a5d9-4954-92d1-ddcc34892563",
   "metadata": {},
   "outputs": [
    {
     "name": "stdout",
     "output_type": "stream",
     "text": [
      "Mean Absolute Error (MAE): 7.746638153577294\n",
      "Mean Squared Error (MSE): 119.55399026452473\n",
      "R-squared (R2 Score): 0.971879941658459\n",
      "\n",
      "Actual values (y_test): [253 275 127]\n",
      "Predicted values (y_pred): [250.09009745 273.3067042  145.63671611]\n"
     ]
    }
   ],
   "source": [
    "import pandas as pd\n",
    "from sklearn.model_selection import train_test_split\n",
    "from sklearn.linear_model import LinearRegression\n",
    "from sklearn.metrics import mean_absolute_error, mean_squared_error, r2_score\n",
    "import numpy as np\n",
    "\n",
    "# Creating DataFrame from the provided data\n",
    "data = {\n",
    "    'Student': ['Ajay', 'Binay_', 'Amrita', 'Raj', 'Sa nj u', 'Pujan', 'Prabesh'],\n",
    "    'Math': [85, 92, 75, 88, 60, 2, 90],\n",
    "    'English': [90, 88, 80, 92, 77, 85, 900],\n",
    "    'Science': [78, 95, 82, 89, 55, 40, 85],\n",
    "    'Family_Inc': [75000, 80000, 60000, 90000, 55000, 40000, 100000],\n",
    "    'Hours_of_S': [3, 4, 2, 5, 1, 0.5, 6],\n",
    "    'Age_Group': ['20-Nov', '21-30', '20-Nov', '21-30', '20-Nov', '0-10', '21-30'],\n",
    "    'Distance_fi': [2.5, 3, 1.8, 4.2, 2, 0.5, 5.5],\n",
    "    'Number_of_Extracurric': [2, 1, 3, 0, 4, 0, 2],\n",
    "    'Motivation_Level': ['High', 'Medium', 'Medium', 'High', 'Low', 'Low', 'High']\n",
    "}\n",
    "\n",
    "df = pd.DataFrame(data)\n",
    "\n",
    "# 1. Cleaning string columns\n",
    "df['Student'] = df['Student'].str.replace('_', '').str.strip()  # Remove underscores and spaces\n",
    "df['Motivation_Level'] = df['Motivation_Level'].str.strip()\n",
    "\n",
    "# Calculating 'Total_Score' as sum of scores across subjects\n",
    "df['Total_Score'] = df[['Math', 'English', 'Science']].sum(axis=1)\n",
    "\n",
    "# Selecting features and target variable\n",
    "X = df[['Math', 'English', 'Science', 'Family_Inc', 'Hours_of_S', 'Distance_fi', 'Number_of_Extracurric']]\n",
    "y = df['Total_Score']\n",
    "\n",
    "# Splitting data into training and testing sets\n",
    "X_train, X_test, y_train, y_test = train_test_split(X, y, test_size=0.3, random_state=42)\n",
    "\n",
    "# Initializing and training the Multiple Linear Regression model\n",
    "model = LinearRegression()\n",
    "model.fit(X_train, y_train)\n",
    "\n",
    "# Making predictions on the test set\n",
    "y_pred = model.predict(X_test)\n",
    "\n",
    "# Calculating accuracy metrics\n",
    "mae = mean_absolute_error(y_test, y_pred)\n",
    "mse = mean_squared_error(y_test, y_pred)\n",
    "r2 = r2_score(y_test, y_pred)\n",
    "\n",
    "# Displaying the results\n",
    "print(\"Mean Absolute Error (MAE):\", mae)\n",
    "print(\"Mean Squared Error (MSE):\", mse)\n",
    "print(\"R-squared (R2 Score):\", r2)\n",
    "\n",
    "# Displaying the actual and predicted values\n",
    "print(\"\\nActual values (y_test):\", np.array(y_test))\n",
    "print(\"Predicted values (y_pred):\", y_pred)\n"
   ]
  },
  {
   "cell_type": "markdown",
   "id": "f6e70c43-3a71-43a7-a812-4195ca442bdb",
   "metadata": {},
   "source": [
    "Question No 12\n",
    "ans:-"
   ]
  },
  {
   "cell_type": "code",
   "execution_count": 5,
   "id": "346877fd-5ffa-4c78-86a1-d03d5345b67b",
   "metadata": {},
   "outputs": [
    {
     "name": "stdout",
     "output_type": "stream",
     "text": [
      "Accuracy Score: 0.3333333333333333\n",
      "Confusion Matrix:\n",
      " [[0 1]\n",
      " [1 1]]\n",
      "Classification Report:\n",
      "               precision    recall  f1-score   support\n",
      "\n",
      "           0       0.00      0.00      0.00         1\n",
      "           1       0.50      0.50      0.50         2\n",
      "\n",
      "    accuracy                           0.33         3\n",
      "   macro avg       0.25      0.25      0.25         3\n",
      "weighted avg       0.33      0.33      0.33         3\n",
      "\n",
      "\n",
      "Actual values (y_test): [1 1 0]\n",
      "Predicted values (y_pred): [0 1 1]\n"
     ]
    },
    {
     "name": "stderr",
     "output_type": "stream",
     "text": [
      "C:\\Users\\Dell\\AppData\\Local\\Programs\\Python\\Python312\\Lib\\site-packages\\sklearn\\linear_model\\_logistic.py:469: ConvergenceWarning: lbfgs failed to converge (status=1):\n",
      "STOP: TOTAL NO. of ITERATIONS REACHED LIMIT.\n",
      "\n",
      "Increase the number of iterations (max_iter) or scale the data as shown in:\n",
      "    https://scikit-learn.org/stable/modules/preprocessing.html\n",
      "Please also refer to the documentation for alternative solver options:\n",
      "    https://scikit-learn.org/stable/modules/linear_model.html#logistic-regression\n",
      "  n_iter_i = _check_optimize_result(\n"
     ]
    }
   ],
   "source": [
    "import pandas as pd\n",
    "from sklearn.model_selection import train_test_split\n",
    "from sklearn.linear_model import LogisticRegression\n",
    "from sklearn.metrics import accuracy_score, confusion_matrix, classification_report\n",
    "import numpy as np\n",
    "\n",
    "# Load and prepare the dataset\n",
    "data = {\n",
    "    'Student': ['Ajay', 'Binay', 'Amrita', 'Raj', 'Sanju', 'Pujan', 'Prabesh'],\n",
    "    'Math': [85, 92, 75, 88, 60, 2, 90],\n",
    "    'English': [90, 88, 80, 92, 77, 85, 900],\n",
    "    'Science': [78, 95, 82, 89, 55, 40, 85],\n",
    "    'Family_Inc': [75000, 80000, 60000, 90000, 55000, 40000, 100000],\n",
    "    'Hours_of_S': [3, 4, 2, 5, 1, 0.5, 6],\n",
    "    'Distance_fi': [2.5, 3, 1.8, 4.2, 2, 0.5, 5.5],\n",
    "    'Number_of_Extracurric': [2, 1, 3, 0, 4, 0, 2],\n",
    "    'Motivation_Level': ['High', 'Medium', 'Medium', 'High', 'Low', 'Low', 'High']\n",
    "}\n",
    "\n",
    "df = pd.DataFrame(data)\n",
    "\n",
    "# Calculating Total_Score\n",
    "df['Total_Score'] = df[['Math', 'English', 'Science']].sum(axis=1)\n",
    "\n",
    "# Assuming a threshold for passing\n",
    "pass_threshold = 200  # Example threshold, can be adjusted\n",
    "df['Pass_Fail'] = np.where(df['Total_Score'] >= pass_threshold, 1, 0)  # 1 = Pass, 0 = Fail\n",
    "\n",
    "# Selecting features and target variable\n",
    "X = df[['Math', 'English', 'Science', 'Family_Inc', 'Hours_of_S', 'Distance_fi', 'Number_of_Extracurric']]\n",
    "y = df['Pass_Fail']\n",
    "\n",
    "# Splitting the dataset into training and testing sets\n",
    "X_train, X_test, y_train, y_test = train_test_split(X, y, test_size=0.3, random_state=42)\n",
    "\n",
    "# Initialize and train the Logistic Regression model\n",
    "model = LogisticRegression()\n",
    "model.fit(X_train, y_train)\n",
    "\n",
    "# Predicting on the test set\n",
    "y_pred = model.predict(X_test)\n",
    "\n",
    "# Evaluating the model\n",
    "accuracy = accuracy_score(y_test, y_pred)\n",
    "conf_matrix = confusion_matrix(y_test, y_pred)\n",
    "class_report = classification_report(y_test, y_pred)\n",
    "\n",
    "# Displaying the results\n",
    "print(\"Accuracy Score:\", accuracy)\n",
    "print(\"Confusion Matrix:\\n\", conf_matrix)\n",
    "print(\"Classification Report:\\n\", class_report)\n",
    "\n",
    "# Display actual and predicted values\n",
    "print(\"\\nActual values (y_test):\", np.array(y_test))\n",
    "print(\"Predicted values (y_pred):\", y_pred)\n"
   ]
  }
 ],
 "metadata": {
  "kernelspec": {
   "display_name": "Python 3 (ipykernel)",
   "language": "python",
   "name": "python3"
  },
  "language_info": {
   "codemirror_mode": {
    "name": "ipython",
    "version": 3
   },
   "file_extension": ".py",
   "mimetype": "text/x-python",
   "name": "python",
   "nbconvert_exporter": "python",
   "pygments_lexer": "ipython3",
   "version": "3.12.4"
  }
 },
 "nbformat": 4,
 "nbformat_minor": 5
}
